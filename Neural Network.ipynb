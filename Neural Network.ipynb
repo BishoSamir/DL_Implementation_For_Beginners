{
 "cells": [
  {
   "cell_type": "code",
   "execution_count": 1,
   "id": "df083d3b",
   "metadata": {},
   "outputs": [],
   "source": [
    "import pandas as pd \n",
    "import numpy as np \n",
    "import matplotlib.pyplot as plt\n",
    "import seaborn as sns\n",
    "import re  \n",
    "import warnings\n",
    "from pathlib import Path\n",
    "warnings.filterwarnings(\"ignore\")\n",
    "%matplotlib inline\n",
    "plt.rcParams['figure.figsize'] = [8,5]\n",
    "plt.rcParams['font.size'] =14\n",
    "plt.rcParams['font.weight']= 'bold'\n",
    "sns.set()"
   ]
  },
  {
   "cell_type": "code",
   "execution_count": 2,
   "id": "2650d438",
   "metadata": {},
   "outputs": [],
   "source": [
    "import torch \n",
    "import torch.nn as nn\n",
    "import torch.optim as optim\n",
    "import torch.nn.functional as F\n",
    "from torch.utils.data import DataLoader\n",
    "import torchvision.datasets as datasets \n",
    "import torchvision.transforms as transforms"
   ]
  },
  {
   "cell_type": "code",
   "execution_count": 3,
   "id": "1b67280b",
   "metadata": {},
   "outputs": [],
   "source": [
    "import spacy\n",
    "import torchtext"
   ]
  },
  {
   "cell_type": "code",
   "execution_count": 4,
   "id": "16823d61",
   "metadata": {},
   "outputs": [],
   "source": [
    "nlp = spacy.load(r'C:\\Users\\besho\\anaconda3\\envs\\pytorch\\Lib\\site-packages\\en_core_web_lg\\en_core_web_lg-3.4.1')"
   ]
  },
  {
   "cell_type": "code",
   "execution_count": 5,
   "id": "0331ade9",
   "metadata": {},
   "outputs": [
    {
     "data": {
      "text/plain": [
       "torch.Size([64, 10])"
      ]
     },
     "execution_count": 5,
     "metadata": {},
     "output_type": "execute_result"
    }
   ],
   "source": [
    "class NN(nn.Module):\n",
    "    def __init__(self , input_size , hidden_size , n_classes):\n",
    "        super().__init__()\n",
    "        self.fc1 = nn.Linear(input_size , hidden_size)\n",
    "        self.fc2 = nn.Linear(hidden_size , n_classes)\n",
    "    def forward(self ,x):\n",
    "        return self.fc2( F.relu( self.fc1(x) ) )\n",
    "model = NN(784 , 50 , 10)\n",
    "#check if it works \n",
    "model( torch.randn(64,784) ).shape"
   ]
  },
  {
   "cell_type": "code",
   "execution_count": 6,
   "id": "ed4efc92",
   "metadata": {},
   "outputs": [],
   "source": [
    "device = torch.device('cuda' if torch.cuda.is_available() else 'cpu')\n",
    "input_size = 784 \n",
    "hidden_size = 100\n",
    "num_classes = 10\n",
    "learning_rate = 0.001\n",
    "batch_size = 64\n",
    "num_epochs = 11\n"
   ]
  },
  {
   "cell_type": "code",
   "execution_count": 7,
   "id": "59a02d04",
   "metadata": {},
   "outputs": [],
   "source": [
    "train = datasets.MNIST(root = r'C:\\Users\\besho\\data' , train = True \n",
    "                       , transform = transforms.ToTensor() ,download = False )\n",
    "test = datasets.MNIST(root = r'C:\\Users\\besho\\data' , train = False \n",
    "                       , transform = transforms.ToTensor() ,download = False )\n"
   ]
  },
  {
   "cell_type": "code",
   "execution_count": 8,
   "id": "4f67c3bf",
   "metadata": {},
   "outputs": [],
   "source": [
    "train_loader = DataLoader(dataset= train ,batch_size = batch_size , shuffle = True)\n",
    "test_loader = DataLoader(dataset= test , batch_size = batch_size , shuffle = True)"
   ]
  },
  {
   "cell_type": "code",
   "execution_count": 9,
   "id": "4402cb84",
   "metadata": {},
   "outputs": [],
   "source": [
    "from tqdm.auto import tqdm\n",
    "\n",
    "model = NN(input_size , hidden_size , num_classes).to(device)\n",
    "\n",
    "criterion = nn.CrossEntropyLoss()\n",
    "optimizer = optim.Adam(model.parameters() , lr = learning_rate)"
   ]
  },
  {
   "cell_type": "code",
   "execution_count": 10,
   "id": "b1b89812",
   "metadata": {},
   "outputs": [],
   "source": [
    "def train_model(model , train , n_epochs , device):\n",
    "    \n",
    "    for epoch in tqdm(range(n_epochs)):    \n",
    "        train_loss = 0\n",
    "        for X,y in train:\n",
    "            model.train()\n",
    "            X ,y = X.to(device) , y.to(device)\n",
    "            X = X.reshape(X.shape[0] , -1)\n",
    "            \n",
    "            y_pred = model(X)\n",
    "            loss = criterion(y_pred , y)\n",
    "            train_loss += loss\n",
    "            optimizer.zero_grad()\n",
    "            loss.backward()\n",
    "            optimizer.step()\n",
    "        \n",
    "        train_loss /= len(train)\n",
    "        if(epoch % 10 ==0):\n",
    "            print(f' loss for train = {train_loss} ')"
   ]
  },
  {
   "cell_type": "code",
   "execution_count": 18,
   "id": "bd5cf4db",
   "metadata": {},
   "outputs": [],
   "source": [
    "def test_model(model , test , device):\n",
    "    \n",
    "    n_correct = 0\n",
    "    n_samples = 0\n",
    "    eval_loss = 0\n",
    "    \n",
    "    model.eval()\n",
    "    with torch.inference_mode():\n",
    "        for X,y in test:\n",
    "            X ,y = X.to(device) , y.to(device)\n",
    "            X = X.reshape(X.shape[0] , -1)\n",
    "            \n",
    "            y_pred = model(X)\n",
    "            y_labels = y_pred.argmax(1)\n",
    "            \n",
    "            n_correct += (y_labels == y).sum()\n",
    "            n_samples += len(y)\n",
    "            eval_loss += criterion(y_pred , y)\n",
    "        \n",
    "        eval_loss /= len(test)\n",
    "    \n",
    "    return f'eval_loss = {eval_loss} , acc = { float(n_correct)/float(n_samples)*100 }'\n",
    "            "
   ]
  },
  {
   "cell_type": "code",
   "execution_count": 12,
   "id": "3fd84bca",
   "metadata": {},
   "outputs": [
    {
     "data": {
      "application/vnd.jupyter.widget-view+json": {
       "model_id": "cb65d2fdf2404c6a9fc75debf1311557",
       "version_major": 2,
       "version_minor": 0
      },
      "text/plain": [
       "  0%|          | 0/11 [00:00<?, ?it/s]"
      ]
     },
     "metadata": {},
     "output_type": "display_data"
    },
    {
     "name": "stdout",
     "output_type": "stream",
     "text": [
      " loss for train = 0.3622235655784607 \n",
      " loss for train = 0.025877395644783974 \n"
     ]
    }
   ],
   "source": [
    "train_model(model , train_loader , num_epochs , device)"
   ]
  },
  {
   "cell_type": "code",
   "execution_count": 19,
   "id": "8d874fef",
   "metadata": {},
   "outputs": [
    {
     "data": {
      "text/plain": [
       "'eval_loss = 0.07851454615592957 , acc = 97.5'"
      ]
     },
     "execution_count": 19,
     "metadata": {},
     "output_type": "execute_result"
    }
   ],
   "source": [
    "test_model(model , test_loader , device)"
   ]
  },
  {
   "cell_type": "code",
   "execution_count": null,
   "id": "a4023dea",
   "metadata": {},
   "outputs": [],
   "source": []
  }
 ],
 "metadata": {
  "kernelspec": {
   "display_name": "Python 3 (ipykernel)",
   "language": "python",
   "name": "python3"
  },
  "language_info": {
   "codemirror_mode": {
    "name": "ipython",
    "version": 3
   },
   "file_extension": ".py",
   "mimetype": "text/x-python",
   "name": "python",
   "nbconvert_exporter": "python",
   "pygments_lexer": "ipython3",
   "version": "3.9.7"
  }
 },
 "nbformat": 4,
 "nbformat_minor": 5
}
